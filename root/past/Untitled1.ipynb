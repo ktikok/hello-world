{
 "cells": [
  {
   "cell_type": "code",
   "execution_count": 1,
   "metadata": {
    "execution": {
     "iopub.execute_input": "2021-02-03T17:12:02.975600Z",
     "iopub.status.busy": "2021-02-03T17:12:02.975249Z",
     "iopub.status.idle": "2021-02-03T17:12:04.462616Z",
     "shell.execute_reply": "2021-02-03T17:12:04.461488Z",
     "shell.execute_reply.started": "2021-02-03T17:12:02.975552Z"
    }
   },
   "outputs": [
    {
     "name": "stdout",
     "output_type": "stream",
     "text": [
      "\n",
      "     active environment : base\n",
      "    active env location : /home/tikim/anaconda3\n",
      "            shell level : 1\n",
      "       user config file : /home/tikim/.condarc\n",
      " populated config files : \n",
      "          conda version : 4.9.2\n",
      "    conda-build version : 3.18.11\n",
      "         python version : 3.8.3.final.0\n",
      "       virtual packages : __cuda=10.2=0\n",
      "                          __glibc=2.23=0\n",
      "                          __unix=0=0\n",
      "                          __archspec=1=x86_64\n",
      "       base environment : /home/tikim/anaconda3  (writable)\n",
      "           channel URLs : https://repo.anaconda.com/pkgs/main/linux-64\n",
      "                          https://repo.anaconda.com/pkgs/main/noarch\n",
      "                          https://repo.anaconda.com/pkgs/r/linux-64\n",
      "                          https://repo.anaconda.com/pkgs/r/noarch\n",
      "          package cache : /home/tikim/anaconda3/pkgs\n",
      "                          /home/tikim/.conda/pkgs\n",
      "       envs directories : /home/tikim/anaconda3/envs\n",
      "                          /home/tikim/.conda/envs\n",
      "               platform : linux-64\n",
      "             user-agent : conda/4.9.2 requests/2.24.0 CPython/3.8.3 Linux/4.4.0-112-generic ubuntu/16.04.6 glibc/2.23\n",
      "                UID:GID : 1006:1007\n",
      "             netrc file : None\n",
      "           offline mode : False\n",
      "\n"
     ]
    }
   ],
   "source": [
    "!conda info"
   ]
  }
 ],
 "metadata": {
  "kernelspec": {
   "display_name": "Python 3",
   "language": "python",
   "name": "python3"
  },
  "language_info": {
   "codemirror_mode": {
    "name": "ipython",
    "version": 3
   },
   "file_extension": ".py",
   "mimetype": "text/x-python",
   "name": "python",
   "nbconvert_exporter": "python",
   "pygments_lexer": "ipython3",
   "version": "3.8.3"
  }
 },
 "nbformat": 4,
 "nbformat_minor": 4
}
