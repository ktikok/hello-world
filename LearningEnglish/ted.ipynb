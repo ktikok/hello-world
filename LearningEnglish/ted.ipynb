{
 "cells": [
  {
   "cell_type": "code",
   "execution_count": 7,
   "metadata": {
    "id": "e2dOSPwO9gJE",
    "outputId": "69609bff-5c2e-47b7-b900-ab5af3bee274"
   },
   "outputs": [
    {
     "name": "stdout",
     "output_type": "stream",
     "text": [
      "\n"
     ]
    },
    {
     "data": {
      "text/plain": [
       "'\\ntry:\\n    browser.find_element_by_xpath(\\'//*[@id=\"content\"]/div/div[4]/div[3]/section/div[1]/div[1]/select/option[1]\\').click()#english 누르기\\nexcept:\\n    browser.find_element_by_xpath(\\'//*[@id=\"content\"]/div/div[4]/div[2]/section/div[1]/div[1]/select/option[1]\\').click()#english 누르기\\n#English\\n#화면크기에 따라 버튼들의 위치가 바뀌어 오류가 날 수 있다.\\n\\n'"
      ]
     },
     "execution_count": 7,
     "metadata": {},
     "output_type": "execute_result"
    }
   ],
   "source": [
    "'''\n",
    "2021.07.01\n",
    "2019년 폴도에 있던 파일을 가져와서 몇가지 업데이트를 했다.\n",
    "1. 원래는 영어 자막을 클릭했지만, select에서 옵션을 선택하는 것으로 바꿨다.\n",
    "2. pause가 안되서, \n",
    "'''\n",
    "\n",
    "from selenium import webdriver\n",
    "from selenium.webdriver.support.select import Select\n",
    "import time\n",
    "\n",
    "special_symbal=[]\n",
    "\n",
    "for i in range(65,91):\n",
    "    special_symbal.append(chr(i))\n",
    "print('')\n",
    "for i in range(97,123):\n",
    "    special_symbal.append(chr(i))\n",
    "    \n",
    "special_symbal_1=['.','\\'','\\\"','?','!']\n",
    "\n",
    "lecture=1\n",
    "\n",
    "browser=webdriver.Chrome('E:\\hello-world\\LearningEnglish\\chromedriver_win32\\chromedriver.exe')\n",
    "# hello-world/LearningEnglish/chromedriver_win32/chromedriver.exe\n",
    "browser.maximize_window()\n",
    "#브라우저 창을 최대로\n",
    "#name_title='yasin kakande what's missing in the global debate over refugees\n",
    "browser.get('https://www.ted.com/talks?sort=popular&duration=0-6&language=ko')#  &language=ko&duration=0-6, popular\n",
    "# https://www.ted.com/talks?sort=popular&duration=0-6&language=ko\n",
    "# 'https://www.ted.com/talks?sort=newest&language=ko&duration=0-6'\n",
    "\n",
    "browser.find_element_by_xpath('//*[@id=\"browse-results\"]/div[1]/div['+str(lecture)+']/div/div/div/div[2]/h4[2]/a').click()\n",
    "#time.sleep(3) # 페이지 뜨는 시간이 느려서... 뜨기까지 기다려야함..\n",
    "\n",
    "\n",
    "\"\"\"\n",
    "try:\n",
    "    browser.find_element_by_xpath('//*[@id=\"content\"]/div/div[4]/div[3]/section/div[1]/div[1]/select/option[1]').click()#english 누르기\n",
    "except:\n",
    "    browser.find_element_by_xpath('//*[@id=\"content\"]/div/div[4]/div[2]/section/div[1]/div[1]/select/option[1]').click()#english 누르기\n",
    "#English\n",
    "#화면크기에 따라 버튼들의 위치가 바뀌어 오류가 날 수 있다.\n",
    "\n",
    "\"\"\"\n"
   ]
  },
  {
   "cell_type": "code",
   "execution_count": 31,
   "metadata": {
    "id": "gX0qqAY_9gJN",
    "outputId": "647c7c03-c96f-45b8-df06-7fed26c4559a",
    "scrolled": true
   },
   "outputs": [
    {
     "name": "stdout",
     "output_type": "stream",
     "text": [
      "80\n",
      "\n",
      "because I couldn't give her a good answer.\n",
      "S* I g** o** t** p****, a** I c*** t* T**.\n"
     ]
    },
    {
     "ename": "StaleElementReferenceException",
     "evalue": "Message: stale element reference: element is not attached to the page document\n  (Session info: chrome=91.0.4472.124)\n",
     "output_type": "error",
     "traceback": [
      "\u001b[1;31m---------------------------------------------------------------------------\u001b[0m",
      "\u001b[1;31mStaleElementReferenceException\u001b[0m            Traceback (most recent call last)",
      "\u001b[1;32m<ipython-input-31-4bfedd564dfe>\u001b[0m in \u001b[0;36m<module>\u001b[1;34m\u001b[0m\n\u001b[0;32m    197\u001b[0m \u001b[1;33m\u001b[0m\u001b[0m\n\u001b[0;32m    198\u001b[0m \u001b[1;32mif\u001b[0m \u001b[0m__name__\u001b[0m\u001b[1;33m==\u001b[0m\u001b[1;34m'__main__'\u001b[0m\u001b[1;33m:\u001b[0m\u001b[1;33m\u001b[0m\u001b[1;33m\u001b[0m\u001b[0m\n\u001b[1;32m--> 199\u001b[1;33m     \u001b[0mmain\u001b[0m\u001b[1;33m(\u001b[0m\u001b[1;33m)\u001b[0m\u001b[1;33m\u001b[0m\u001b[1;33m\u001b[0m\u001b[0m\n\u001b[0m\u001b[0;32m    200\u001b[0m     \u001b[0manswer_count\u001b[0m\u001b[1;33m[\u001b[0m\u001b[1;36m2\u001b[0m\u001b[1;33m]\u001b[0m\u001b[1;33m=\u001b[0m\u001b[0manswer_count\u001b[0m\u001b[1;33m[\u001b[0m\u001b[1;36m0\u001b[0m\u001b[1;33m]\u001b[0m\u001b[1;33m/\u001b[0m\u001b[1;33m(\u001b[0m\u001b[0manswer_count\u001b[0m\u001b[1;33m[\u001b[0m\u001b[1;36m1\u001b[0m\u001b[1;33m]\u001b[0m\u001b[1;33m+\u001b[0m\u001b[0manswer_count\u001b[0m\u001b[1;33m[\u001b[0m\u001b[1;36m0\u001b[0m\u001b[1;33m]\u001b[0m\u001b[1;33m)\u001b[0m\u001b[1;33m*\u001b[0m\u001b[1;36m100\u001b[0m\u001b[1;33m\u001b[0m\u001b[1;33m\u001b[0m\u001b[0m\n\u001b[0;32m    201\u001b[0m     \u001b[0mf\u001b[0m\u001b[1;33m=\u001b[0m\u001b[0mopen\u001b[0m\u001b[1;33m(\u001b[0m\u001b[1;34m'score_list7.txt'\u001b[0m\u001b[1;33m,\u001b[0m\u001b[1;34m'a'\u001b[0m\u001b[1;33m)\u001b[0m\u001b[1;33m\u001b[0m\u001b[1;33m\u001b[0m\u001b[0m\n",
      "\u001b[1;32m<ipython-input-31-4bfedd564dfe>\u001b[0m in \u001b[0;36mmain\u001b[1;34m()\u001b[0m\n\u001b[0;32m    155\u001b[0m \u001b[1;33m\u001b[0m\u001b[0m\n\u001b[0;32m    156\u001b[0m         \u001b[0mplay\u001b[0m\u001b[1;33m(\u001b[0m\u001b[0menglish_sentences\u001b[0m\u001b[1;33m,\u001b[0m\u001b[0menglish_count\u001b[0m\u001b[1;33m[\u001b[0m\u001b[1;36m0\u001b[0m\u001b[1;33m]\u001b[0m\u001b[1;33m)\u001b[0m\u001b[1;33m\u001b[0m\u001b[1;33m\u001b[0m\u001b[0m\n\u001b[1;32m--> 157\u001b[1;33m         \u001b[0manswer\u001b[0m\u001b[1;33m=\u001b[0m\u001b[1;33m(\u001b[0m\u001b[0menglish_sentences\u001b[0m\u001b[1;33m[\u001b[0m\u001b[0menglish_count\u001b[0m\u001b[1;33m[\u001b[0m\u001b[1;36m0\u001b[0m\u001b[1;33m]\u001b[0m\u001b[1;33m-\u001b[0m\u001b[1;36m1\u001b[0m\u001b[1;33m]\u001b[0m\u001b[1;33m)\u001b[0m\u001b[1;33m.\u001b[0m\u001b[0mtext\u001b[0m\u001b[1;33m\u001b[0m\u001b[1;33m\u001b[0m\u001b[0m\n\u001b[0m\u001b[0;32m    158\u001b[0m         \u001b[0mmistake_count\u001b[0m\u001b[1;33m=\u001b[0m\u001b[1;36m0\u001b[0m\u001b[1;33m\u001b[0m\u001b[1;33m\u001b[0m\u001b[0m\n\u001b[0;32m    159\u001b[0m         \u001b[1;32mwhile\u001b[0m\u001b[1;33m(\u001b[0m\u001b[1;36m1\u001b[0m\u001b[1;33m)\u001b[0m\u001b[1;33m:\u001b[0m\u001b[1;33m\u001b[0m\u001b[1;33m\u001b[0m\u001b[0m\n",
      "\u001b[1;32mD:\\programs\\anaconda\\envs\\py39\\lib\\site-packages\\selenium\\webdriver\\remote\\webelement.py\u001b[0m in \u001b[0;36mtext\u001b[1;34m(self)\u001b[0m\n\u001b[0;32m     74\u001b[0m     \u001b[1;32mdef\u001b[0m \u001b[0mtext\u001b[0m\u001b[1;33m(\u001b[0m\u001b[0mself\u001b[0m\u001b[1;33m)\u001b[0m\u001b[1;33m:\u001b[0m\u001b[1;33m\u001b[0m\u001b[1;33m\u001b[0m\u001b[0m\n\u001b[0;32m     75\u001b[0m         \u001b[1;34m\"\"\"The text of the element.\"\"\"\u001b[0m\u001b[1;33m\u001b[0m\u001b[1;33m\u001b[0m\u001b[0m\n\u001b[1;32m---> 76\u001b[1;33m         \u001b[1;32mreturn\u001b[0m \u001b[0mself\u001b[0m\u001b[1;33m.\u001b[0m\u001b[0m_execute\u001b[0m\u001b[1;33m(\u001b[0m\u001b[0mCommand\u001b[0m\u001b[1;33m.\u001b[0m\u001b[0mGET_ELEMENT_TEXT\u001b[0m\u001b[1;33m)\u001b[0m\u001b[1;33m[\u001b[0m\u001b[1;34m'value'\u001b[0m\u001b[1;33m]\u001b[0m\u001b[1;33m\u001b[0m\u001b[1;33m\u001b[0m\u001b[0m\n\u001b[0m\u001b[0;32m     77\u001b[0m \u001b[1;33m\u001b[0m\u001b[0m\n\u001b[0;32m     78\u001b[0m     \u001b[1;32mdef\u001b[0m \u001b[0mclick\u001b[0m\u001b[1;33m(\u001b[0m\u001b[0mself\u001b[0m\u001b[1;33m)\u001b[0m\u001b[1;33m:\u001b[0m\u001b[1;33m\u001b[0m\u001b[1;33m\u001b[0m\u001b[0m\n",
      "\u001b[1;32mD:\\programs\\anaconda\\envs\\py39\\lib\\site-packages\\selenium\\webdriver\\remote\\webelement.py\u001b[0m in \u001b[0;36m_execute\u001b[1;34m(self, command, params)\u001b[0m\n\u001b[0;32m    631\u001b[0m             \u001b[0mparams\u001b[0m \u001b[1;33m=\u001b[0m \u001b[1;33m{\u001b[0m\u001b[1;33m}\u001b[0m\u001b[1;33m\u001b[0m\u001b[1;33m\u001b[0m\u001b[0m\n\u001b[0;32m    632\u001b[0m         \u001b[0mparams\u001b[0m\u001b[1;33m[\u001b[0m\u001b[1;34m'id'\u001b[0m\u001b[1;33m]\u001b[0m \u001b[1;33m=\u001b[0m \u001b[0mself\u001b[0m\u001b[1;33m.\u001b[0m\u001b[0m_id\u001b[0m\u001b[1;33m\u001b[0m\u001b[1;33m\u001b[0m\u001b[0m\n\u001b[1;32m--> 633\u001b[1;33m         \u001b[1;32mreturn\u001b[0m \u001b[0mself\u001b[0m\u001b[1;33m.\u001b[0m\u001b[0m_parent\u001b[0m\u001b[1;33m.\u001b[0m\u001b[0mexecute\u001b[0m\u001b[1;33m(\u001b[0m\u001b[0mcommand\u001b[0m\u001b[1;33m,\u001b[0m \u001b[0mparams\u001b[0m\u001b[1;33m)\u001b[0m\u001b[1;33m\u001b[0m\u001b[1;33m\u001b[0m\u001b[0m\n\u001b[0m\u001b[0;32m    634\u001b[0m \u001b[1;33m\u001b[0m\u001b[0m\n\u001b[0;32m    635\u001b[0m     \u001b[1;32mdef\u001b[0m \u001b[0mfind_element\u001b[0m\u001b[1;33m(\u001b[0m\u001b[0mself\u001b[0m\u001b[1;33m,\u001b[0m \u001b[0mby\u001b[0m\u001b[1;33m=\u001b[0m\u001b[0mBy\u001b[0m\u001b[1;33m.\u001b[0m\u001b[0mID\u001b[0m\u001b[1;33m,\u001b[0m \u001b[0mvalue\u001b[0m\u001b[1;33m=\u001b[0m\u001b[1;32mNone\u001b[0m\u001b[1;33m)\u001b[0m\u001b[1;33m:\u001b[0m\u001b[1;33m\u001b[0m\u001b[1;33m\u001b[0m\u001b[0m\n",
      "\u001b[1;32mD:\\programs\\anaconda\\envs\\py39\\lib\\site-packages\\selenium\\webdriver\\remote\\webdriver.py\u001b[0m in \u001b[0;36mexecute\u001b[1;34m(self, driver_command, params)\u001b[0m\n\u001b[0;32m    319\u001b[0m         \u001b[0mresponse\u001b[0m \u001b[1;33m=\u001b[0m \u001b[0mself\u001b[0m\u001b[1;33m.\u001b[0m\u001b[0mcommand_executor\u001b[0m\u001b[1;33m.\u001b[0m\u001b[0mexecute\u001b[0m\u001b[1;33m(\u001b[0m\u001b[0mdriver_command\u001b[0m\u001b[1;33m,\u001b[0m \u001b[0mparams\u001b[0m\u001b[1;33m)\u001b[0m\u001b[1;33m\u001b[0m\u001b[1;33m\u001b[0m\u001b[0m\n\u001b[0;32m    320\u001b[0m         \u001b[1;32mif\u001b[0m \u001b[0mresponse\u001b[0m\u001b[1;33m:\u001b[0m\u001b[1;33m\u001b[0m\u001b[1;33m\u001b[0m\u001b[0m\n\u001b[1;32m--> 321\u001b[1;33m             \u001b[0mself\u001b[0m\u001b[1;33m.\u001b[0m\u001b[0merror_handler\u001b[0m\u001b[1;33m.\u001b[0m\u001b[0mcheck_response\u001b[0m\u001b[1;33m(\u001b[0m\u001b[0mresponse\u001b[0m\u001b[1;33m)\u001b[0m\u001b[1;33m\u001b[0m\u001b[1;33m\u001b[0m\u001b[0m\n\u001b[0m\u001b[0;32m    322\u001b[0m             response['value'] = self._unwrap_value(\n\u001b[0;32m    323\u001b[0m                 response.get('value', None))\n",
      "\u001b[1;32mD:\\programs\\anaconda\\envs\\py39\\lib\\site-packages\\selenium\\webdriver\\remote\\errorhandler.py\u001b[0m in \u001b[0;36mcheck_response\u001b[1;34m(self, response)\u001b[0m\n\u001b[0;32m    240\u001b[0m                 \u001b[0malert_text\u001b[0m \u001b[1;33m=\u001b[0m \u001b[0mvalue\u001b[0m\u001b[1;33m[\u001b[0m\u001b[1;34m'alert'\u001b[0m\u001b[1;33m]\u001b[0m\u001b[1;33m.\u001b[0m\u001b[0mget\u001b[0m\u001b[1;33m(\u001b[0m\u001b[1;34m'text'\u001b[0m\u001b[1;33m)\u001b[0m\u001b[1;33m\u001b[0m\u001b[1;33m\u001b[0m\u001b[0m\n\u001b[0;32m    241\u001b[0m             \u001b[1;32mraise\u001b[0m \u001b[0mexception_class\u001b[0m\u001b[1;33m(\u001b[0m\u001b[0mmessage\u001b[0m\u001b[1;33m,\u001b[0m \u001b[0mscreen\u001b[0m\u001b[1;33m,\u001b[0m \u001b[0mstacktrace\u001b[0m\u001b[1;33m,\u001b[0m \u001b[0malert_text\u001b[0m\u001b[1;33m)\u001b[0m\u001b[1;33m\u001b[0m\u001b[1;33m\u001b[0m\u001b[0m\n\u001b[1;32m--> 242\u001b[1;33m         \u001b[1;32mraise\u001b[0m \u001b[0mexception_class\u001b[0m\u001b[1;33m(\u001b[0m\u001b[0mmessage\u001b[0m\u001b[1;33m,\u001b[0m \u001b[0mscreen\u001b[0m\u001b[1;33m,\u001b[0m \u001b[0mstacktrace\u001b[0m\u001b[1;33m)\u001b[0m\u001b[1;33m\u001b[0m\u001b[1;33m\u001b[0m\u001b[0m\n\u001b[0m\u001b[0;32m    243\u001b[0m \u001b[1;33m\u001b[0m\u001b[0m\n\u001b[0;32m    244\u001b[0m     \u001b[1;32mdef\u001b[0m \u001b[0m_value_or_default\u001b[0m\u001b[1;33m(\u001b[0m\u001b[0mself\u001b[0m\u001b[1;33m,\u001b[0m \u001b[0mobj\u001b[0m\u001b[1;33m,\u001b[0m \u001b[0mkey\u001b[0m\u001b[1;33m,\u001b[0m \u001b[0mdefault\u001b[0m\u001b[1;33m)\u001b[0m\u001b[1;33m:\u001b[0m\u001b[1;33m\u001b[0m\u001b[1;33m\u001b[0m\u001b[0m\n",
      "\u001b[1;31mStaleElementReferenceException\u001b[0m: Message: stale element reference: element is not attached to the page document\n  (Session info: chrome=91.0.4472.124)\n"
     ]
    }
   ],
   "source": [
    "#'''\n",
    "try:\n",
    "    #browser.find_element_by_xpath('//*[@id=\"content\"]/div/div[4]/div[1]/ul/li[3]/a/span/div').click()#transcript 누르기\n",
    "    browser.find_element_by_xpath('//*[@id=\"content\"]/div/div[4]/div[1]/div/a[3]').click()#transcript 누르기\n",
    "    # \n",
    "except:\n",
    "    browser.find_element_by_xpath('//*[@id=\"content\"]/div/div[4]/div[1]/ul/li[2]/a/span/div/span').click()#transcript 누르기\n",
    "#transcript\n",
    "# '//*[@id=\"content\"]/div/div[4]/div[1]/ul/li[3]/a/span/div'\n",
    "# /html/body/div[1]/div[2]/div/div[2]/div/div/div/div/div[1]/div/div[1]/div[2]/div/div[4]/div[3]/section/div[1]/div[1]/select/option[3]\n",
    "# //*[@id=\"content\"]/div/div[4]/div[3]/section/div[1]/div[1]/select/option[3]\n",
    "\n",
    "select_element = browser.find_element_by_xpath('//*[@id=\"content\"]/div/div[4]/div[3]/section/div[1]/div[1]/select')\n",
    "# 목차 가져오기\n",
    "\n",
    "# //*[@id=\"content\"]/div/div[4]/div[3]/section/div[1]/div[1]/select\n",
    "select_object = Select(select_element)\n",
    "select_object.select_by_visible_text('English')\n",
    "# 영어 선택하기\n",
    "\n",
    "english_sentences=browser.find_elements_by_xpath('//*[@id=\"content\"]/div/div[4]/div[3]/section/div/div[2]/p/span/a')\n",
    "# 시간 별로 파트가 나눠진 경우까지 포함하기 위해서 div[2]>div로 바꿈.\n",
    "# '//*[@id=\"content\"]/div/div[4]/div[3]/section/div[5]/div[2]/p/span[1]/a'\n",
    "# //*[@id=\"content\"]/div/div[4]/div[3]/section/div[2]/div[2]/p/span[1]/a\n",
    "# //*[@id=\"content\"]/div/div[4]/div[3]/section/div[2]/div[2]/p/span[2]/a\n",
    "# //*[@id=\"content\"]/div/div[4]/div[3]/section/div[3]/div[2]/p/span[2]/a\n",
    "\n",
    "url=browser.current_url\n",
    "#answer_count[3]=url\n",
    "f=open('score_list7.txt')\n",
    "f_list=f.readlines()\n",
    "writer_title1=f_list[-1].split(' ')[3].split('/')[4]\n",
    "writer_title2=url.split('/')[4]\n",
    "if writer_title2==writer_title1:\n",
    "    if int(f_list[-1].split(' ')[1])+int(f_list[-1].split(' ')[0])<len(english_sentences):\n",
    "        answer_count=[int(f_list[-1].split(' ')[0]), int(f_list[-1].split(' ')[1]), 0, url]\n",
    "        for i in f_list[-1].split(' ')[4:-1]:\n",
    "            answer_count.append(int(i))\n",
    "    elif len(f_list[-1].split(' ')[4:-1])<len(english_sentences):\n",
    "        answer_count=[0,0,0,url]\n",
    "        for i in f_list[-1].split(' ')[4:-1]:\n",
    "            answer_count.append(int(i))\n",
    "    else:\n",
    "        answer_count=[0,0,0,url]\n",
    "else:        \n",
    "    answer_count=[0,0,0,url]\n",
    "\n",
    "f.close()\n",
    "english_count=[answer_count[1]+answer_count[0]]\n",
    "#'''\n",
    "\n",
    "def pause(pause_count):\n",
    "    if pause_count==10:\n",
    "        pass\n",
    "    else:\n",
    "        try:\n",
    "            # //*[@id=\"ted-player\"]/div[4]/button\n",
    "            # //*[@id=\"ted-player\"]/div[4]/div/div/div[2]/div/div[1]/button\n",
    "            # //*[@id=\"ted-player\"]/div[3]/button\n",
    "            browser.find_element_by_xpath('//*[@id=\"ted-player\"]/div[3]/button').click()# 버튼이 보여야함, 자막이 없으면 'div3', 있으면 'div4'\n",
    "            print(\"script off\")\n",
    "        except:\n",
    "            try:\n",
    "                browser.find_element_by_xpath('//*[@id=\"ted-player\"]/div[4]/button').click()# 2021.07.01추가\n",
    "                print(\"script on\")\n",
    "            except:\n",
    "                try:\n",
    "                    # //*[@id=\"ted-player\"]/div[4]/button\n",
    "                    # //*[@id=\"ted-player\"]/div[4]/button\n",
    "                    browser.find_element_by_xpath('//*[@id=\"ted-player\"]/div[4]/div/div/div[2]/div/div[1]/button').click()# 2021.07.01추가\n",
    "                    print(\"clicked play button\")\n",
    "                except:\n",
    "                    print(\"try to pause again\")\n",
    "                    time.sleep(0.1)\n",
    "                    pause(pause_count+1)\n",
    "                \n",
    "            \n",
    "    \"\"\"\n",
    "    try:\n",
    "        #//*[@id=\"ted-player\"]/div[4]/div/div/div[2]/div/div[1]/button\n",
    "        # //*[@id=\"ted-player\"]/div[4]/button 그냥 화면 중앙 클릭해서 멈추기\n",
    "        # //*[@id=\"ted-player\"]/div[3]/button\n",
    "        # /html/body/div[1]/div[2]/div/div[2]/div/div/div/div/div[1]/div/div[1]/div[1]/div/div/div/div[2]/div[2]/div/div/div/div[1]/div/div[2]/div/div[4]/button\n",
    "        #browser.find_element_by_xpath('//*[@id=\"ted-player\"]/div[2]').click()# 버튼이 보여야함, 자막이 없으면 'div2', 있으면 'div3'\n",
    "        browser.find_element_by_xpath('//*[@id=\"ted-player\"]/div[4]/button').click()# 2021.07.01추가\n",
    "\n",
    "        print('pause1')\n",
    "        #'//*[@id=\"plyr-play\"]'\n",
    "        #'//*[@id=\"plyr-pause\"]/path'\n",
    "        #자막이 안보이면 경로가 바뀌게 되므로 try문은 나두되 while문은 지우고 다시 영상클릭후 자막 없어지기 전에 일시정지시키자\n",
    "    except:\n",
    "        try:\n",
    "            pass\n",
    "            browser.find_element_by_xpath('//*[@id=\"ted-player\"]/div[3]/div/div/div[2]/div/div[1]/button').click()\n",
    "\n",
    "            print('pause2')\n",
    "            # When the subtitle isn't appeared.\n",
    "        except:\n",
    "            try:\n",
    "                pass\n",
    "                browser.find_element_by_xpath('//*[@id=\"ted-player\"]/div[2]/button').click()\n",
    "\n",
    "                print('pause3')\n",
    "                # When the subtitle isn't appeared.\n",
    "            except:\n",
    "                try:\n",
    "                    pass\n",
    "                    browser.find_element_by_xpath('//*[@id=\"ted-player\"]/div[2]/div/div/div[2]/div/div[1]/button').click()\n",
    "                    print('pause4')\n",
    "                    # When the subtitle isn't appeared.\n",
    "                except:\n",
    "                    pass\n",
    "    \"\"\"\n",
    "\n",
    "def english(english_count):\n",
    "    print('')\n",
    "    if english_count!=1:\n",
    "        print(english_sentences[english_count-2].text)\n",
    "    words = english_sentences[english_count-1]\n",
    "    words=words.text\n",
    "    letter=''\n",
    "    for words_1 in words:\n",
    "        if (letter not in special_symbal):\n",
    "            print(words_1,end='')\n",
    "            letter=words_1\n",
    "        elif(words_1 not in special_symbal):\n",
    "            print(words_1,end='')\n",
    "            letter=words_1\n",
    "        else:\n",
    "            print('*',end='')\n",
    "            letter=words_1\n",
    "    print('')#이게 없으면 어디까지가 정답인지 모르뮤ㅠ\n",
    "\n",
    "def play(sentences,english_count):\n",
    "    if english_count==1:\n",
    "        sentences[english_count-1].click()\n",
    "    else:\n",
    "        sentences[english_count-2].click()\n",
    "        \n",
    "def main():\n",
    "    #english_count=8\n",
    "    #sentence_count=0\n",
    "    \n",
    "    print(len(english_sentences))\n",
    "    while(english_count[0]<len(english_sentences)):\n",
    "        #sentence_count=sentence_count+1\n",
    "        english_count[0]=english_count[0]+1\n",
    "        if english_count[0] in answer_count[4:]:\n",
    "            \n",
    "            #print(english_count[0])\n",
    "            \n",
    "            answer_count[0]=answer_count[0]+1\n",
    "            continue\n",
    "        eng=english(english_count[0])\n",
    "            \n",
    "        play(english_sentences,english_count[0])\n",
    "        answer=(english_sentences[english_count[0]-1]).text\n",
    "        mistake_count=0\n",
    "        while(1):\n",
    "            #print((english_sentences[english_count+sentence_count-1]).text)\n",
    "            guess=input()\n",
    "            check=1\n",
    "            for i, j in zip(guess,answer):\n",
    "                if i != j and i in special_symbal:\n",
    "                    check=0\n",
    "                    break\n",
    "                else:\n",
    "                    pass\n",
    "                \n",
    "            if(guess==''):\n",
    "                pause(0)\n",
    "            \n",
    "            elif(guess=='raise'):\n",
    "                raise\n",
    "            \n",
    "            elif(guess=='save'):\n",
    "                f=open('score_list7.txt','a')\n",
    "                answer_count[2]=answer_count[0]/(answer_count[1]+answer_count[0])*100\n",
    "                for i in answer_count: \n",
    "                    f.write('%s ' % str(i))\n",
    "                f.write('\\n')\n",
    "                f.close()\n",
    "                print(english_count[0])\n",
    "                print(answer_count)\n",
    "                print('score:',answer_count[0]/answer_count[1]*100)\n",
    "                raise\n",
    "            elif check==1 and len(guess)==len(answer):                    \n",
    "                print('Correct answer!')\n",
    "                answer_count[0]=answer_count[0]+1\n",
    "                answer_count.append(english_count[0])\n",
    "                break\n",
    "            else:\n",
    "                print(english_sentences[english_count[0]-1].text)\n",
    "                print('Wrong answer!')\n",
    "                answer_count[1]=answer_count[1]+1\n",
    "                break\n",
    "\n",
    "if __name__=='__main__':\n",
    "    main()\n",
    "    answer_count[2]=answer_count[0]/(answer_count[1]+answer_count[0])*100\n",
    "    f=open('score_list7.txt','a')\n",
    "    for i in answer_count: \n",
    "        f.write('%s ' % str(i))\n",
    "        \n",
    "    f.write('\\n')\n",
    "    f.close()\n",
    "    print(english_count[0])\n",
    "    print('correct : ', answer_count[0], 'wrong : ', answer_count[1], answer_count[0],)\n",
    "    print('score:',answer_count[2])\n",
    "    print('done')"
   ]
  },
  {
   "cell_type": "code",
   "execution_count": 25,
   "metadata": {
    "id": "4rxH53Dg9gJT",
    "outputId": "0ad736fc-2644-4157-cce7-d88efeda9416"
   },
   "outputs": [
    {
     "data": {
      "text/plain": [
       "[<selenium.webdriver.remote.webelement.WebElement (session=\"9ec06c3a361812f62d265159145372fc\", element=\"ed9e5f44-cff4-44de-acf8-38003a4973ad\")>,\n",
       " <selenium.webdriver.remote.webelement.WebElement (session=\"9ec06c3a361812f62d265159145372fc\", element=\"3b3b9493-8c1c-444a-abd3-9479870f3ee1\")>,\n",
       " <selenium.webdriver.remote.webelement.WebElement (session=\"9ec06c3a361812f62d265159145372fc\", element=\"003b32d4-9a87-4cf0-a9dd-57406c2239c7\")>,\n",
       " <selenium.webdriver.remote.webelement.WebElement (session=\"9ec06c3a361812f62d265159145372fc\", element=\"88980e4d-cc62-4736-8829-8e4a4b48dda5\")>,\n",
       " <selenium.webdriver.remote.webelement.WebElement (session=\"9ec06c3a361812f62d265159145372fc\", element=\"b09b528b-879a-45ce-b667-ec1f5a6f31f9\")>,\n",
       " <selenium.webdriver.remote.webelement.WebElement (session=\"9ec06c3a361812f62d265159145372fc\", element=\"3df71657-b626-4066-9c0a-73f57e2dde29\")>,\n",
       " <selenium.webdriver.remote.webelement.WebElement (session=\"9ec06c3a361812f62d265159145372fc\", element=\"21353d51-d67c-485b-b904-fe4353e7f198\")>,\n",
       " <selenium.webdriver.remote.webelement.WebElement (session=\"9ec06c3a361812f62d265159145372fc\", element=\"f81aafa5-5580-4d6b-98d8-d660fa2ad9d3\")>,\n",
       " <selenium.webdriver.remote.webelement.WebElement (session=\"9ec06c3a361812f62d265159145372fc\", element=\"39b50d42-579e-43f9-b362-579f30c6e44b\")>,\n",
       " <selenium.webdriver.remote.webelement.WebElement (session=\"9ec06c3a361812f62d265159145372fc\", element=\"2725a719-d205-42fe-ab7f-22053820d871\")>,\n",
       " <selenium.webdriver.remote.webelement.WebElement (session=\"9ec06c3a361812f62d265159145372fc\", element=\"1ff49401-2ae1-4c9b-bfa4-c06c7ac5de55\")>]"
      ]
     },
     "execution_count": 25,
     "metadata": {},
     "output_type": "execute_result"
    }
   ],
   "source": [
    "english_sentences"
   ]
  },
  {
   "cell_type": "code",
   "execution_count": 26,
   "metadata": {
    "id": "ilFF20g-9gJU"
   },
   "outputs": [
    {
     "data": {
      "text/plain": [
       "list"
      ]
     },
     "execution_count": 26,
     "metadata": {},
     "output_type": "execute_result"
    }
   ],
   "source": [
    "type(english_sentences)"
   ]
  },
  {
   "cell_type": "code",
   "execution_count": 30,
   "metadata": {},
   "outputs": [
    {
     "data": {
      "text/plain": [
       "[0,\n",
       " 11,\n",
       " 0,\n",
       " 'https://www.ted.com/talks/richard_st_john_8_secrets_of_success/transcript?language=ko']"
      ]
     },
     "execution_count": 30,
     "metadata": {},
     "output_type": "execute_result"
    }
   ],
   "source": [
    "answer_count"
   ]
  }
 ],
 "metadata": {
  "colab": {
   "collapsed_sections": [],
   "name": "ted_script_8_english_test_(phrase).ipynb",
   "provenance": []
  },
  "kernelspec": {
   "display_name": "Python 3",
   "language": "python",
   "name": "python3"
  },
  "language_info": {
   "codemirror_mode": {
    "name": "ipython",
    "version": 3
   },
   "file_extension": ".py",
   "mimetype": "text/x-python",
   "name": "python",
   "nbconvert_exporter": "python",
   "pygments_lexer": "ipython3",
   "version": "3.9.5"
  }
 },
 "nbformat": 4,
 "nbformat_minor": 4
}
