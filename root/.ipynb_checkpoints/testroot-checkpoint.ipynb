{
 "cells": [
  {
   "cell_type": "code",
   "execution_count": null,
   "id": "right-wagner",
   "metadata": {},
   "outputs": [],
   "source": [
    "//TFile f(\"file.root\");\n",
    "//TTree *t = nullptr;\n",
    "//f.GetObject(\"treename\", t);\n",
    "// creating a TChain from two files\n",
    "//TChain c(\"treename\");\n",
    "//c.Add(\"file1.root\");\n",
    "//c.Add(\"file2.root\");"
   ]
  },
  {
   "cell_type": "code",
   "execution_count": null,
   "id": "apart-pointer",
   "metadata": {},
   "outputs": [],
   "source": [
    "TFile *file = new TFile(\"RPV_1400-1.root\",\"read\");"
   ]
  },
  {
   "cell_type": "code",
   "execution_count": null,
   "id": "artistic-princess",
   "metadata": {},
   "outputs": [],
   "source": []
  }
 ],
 "metadata": {
  "kernelspec": {
   "display_name": "ROOT C++",
   "language": "c++",
   "name": "root"
  },
  "language_info": {
   "codemirror_mode": {
    "name": "ipython",
    "version": 3
   },
   "file_extension": ".py",
   "mimetype": "text/x-python",
   "name": "python",
   "nbconvert_exporter": "python",
   "pygments_lexer": "ipython3",
   "version": "3.8.5"
  }
 },
 "nbformat": 4,
 "nbformat_minor": 5
}
